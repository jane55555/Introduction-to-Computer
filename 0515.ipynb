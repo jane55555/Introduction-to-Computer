{
  "nbformat": 4,
  "nbformat_minor": 0,
  "metadata": {
    "colab": {
      "provenance": [],
      "authorship_tag": "ABX9TyNr/BNjSR1ntC7H2C4gvdlx",
      "include_colab_link": true
    },
    "kernelspec": {
      "name": "python3",
      "display_name": "Python 3"
    },
    "language_info": {
      "name": "python"
    }
  },
  "cells": [
    {
      "cell_type": "markdown",
      "metadata": {
        "id": "view-in-github",
        "colab_type": "text"
      },
      "source": [
        "<a href=\"https://colab.research.google.com/github/jane55555/Introduction-to-Computer/blob/main/0515.ipynb\" target=\"_parent\"><img src=\"https://colab.research.google.com/assets/colab-badge.svg\" alt=\"Open In Colab\"/></a>"
      ]
    },
    {
      "cell_type": "code",
      "execution_count": 1,
      "metadata": {
        "colab": {
          "base_uri": "https://localhost:8080/"
        },
        "id": "LXPBWDFaNs6A",
        "outputId": "3b124379-c0f9-4198-d0c3-664dd6ec5e7a"
      },
      "outputs": [
        {
          "output_type": "stream",
          "name": "stdout",
          "text": [
            "0515\n"
          ]
        }
      ],
      "source": [
        "print(\"0515\")"
      ]
    },
    {
      "cell_type": "code",
      "source": [
        "score = int(input(\"score: \"))\n",
        "if score >= 90:\n",
        "  print('A')\n",
        "elif score >= 80:\n",
        "  print('B')\n",
        "elif score >= 70:\n",
        "  print('C')\n",
        "elif score >= 60:\n",
        "  print('D')\n",
        "else:\n",
        "  print('E')"
      ],
      "metadata": {
        "colab": {
          "base_uri": "https://localhost:8080/"
        },
        "id": "6qQOzlilQn2_",
        "outputId": "059967cc-d65b-48c1-ace3-5365efbd4dc3"
      },
      "execution_count": 14,
      "outputs": [
        {
          "output_type": "stream",
          "name": "stdout",
          "text": [
            "score: 89\n",
            "B\n"
          ]
        }
      ]
    },
    {
      "cell_type": "code",
      "source": [
        "rain=(input(\"請輸入字母:\"))\n",
        "if (rain ==\"y\" or rain==\"Y\"or rain==\"N\" or rain==\"n\"):\n",
        "  print(a)\n",
        "else:\n",
        "  input(\"請輸入字母:\")"
      ],
      "metadata": {
        "colab": {
          "base_uri": "https://localhost:8080/"
        },
        "id": "ecoR1lf2Qn5g",
        "outputId": "1843e5bc-1a6c-4e73-ea3b-fcc39ecbaf7b"
      },
      "execution_count": 12,
      "outputs": [
        {
          "name": "stdout",
          "output_type": "stream",
          "text": [
            "請輸入字母:l\n",
            "請輸入字母:n\n"
          ]
        }
      ]
    },
    {
      "cell_type": "code",
      "source": [
        "score = float(input(\"score: \"))\n",
        "if score >= 37.5:\n",
        "  print('體溫過高!')\n",
        "elif score >= 37 and score<=37.4:\n",
        "  print('體溫略高!')\n",
        "elif score >= 34 and score<=36.9:\n",
        "  print('體溫正常!')\n",
        "elif score < 34:\n",
        "  print('體溫異常，請重新量測!')\n"
      ],
      "metadata": {
        "colab": {
          "base_uri": "https://localhost:8080/"
        },
        "id": "AFlCU_xOQn_Q",
        "outputId": "83e2d5dd-b7c0-4bbe-e218-a02191b2c640"
      },
      "execution_count": 13,
      "outputs": [
        {
          "output_type": "stream",
          "name": "stdout",
          "text": [
            "score: 33.5\n",
            "體溫異常，請重新量測!\n"
          ]
        }
      ]
    },
    {
      "cell_type": "code",
      "source": [
        "s=int(input(\"請輸入數字:\"))\n",
        "if (s==3 or s==4 or s==5):\n",
        "  print(s,'月是春天!')\n",
        "elif (s==6 or s==7 or s==8):\n",
        "  print(s,'月是夏天!')\n",
        "elif (s==9 or s==10 or s==11):\n",
        "  print(s,'月是秋天!')\n",
        "elif (s==12 or s==1 or s==2):\n",
        "  print(s,'月是冬天!')\n",
        "else:\n",
        "  print('月份不在範圍內!')"
      ],
      "metadata": {
        "colab": {
          "base_uri": "https://localhost:8080/"
        },
        "id": "tnNTe9eHQoCo",
        "outputId": "4f279617-7f6c-4aa4-f51f-cfbee972b379"
      },
      "execution_count": 21,
      "outputs": [
        {
          "output_type": "stream",
          "name": "stdout",
          "text": [
            "請輸入數字:2\n",
            "2 月是冬天!\n"
          ]
        }
      ]
    },
    {
      "cell_type": "code",
      "source": [
        "ni=int(input(\"請輸入今年淨額;\"))\n",
        "if ni>=2000000:\n",
        "  print(\"付稅金額:\", ni*0.3, \"元\")\n",
        "elif ni>=1000000:\n",
        "  print(\"付稅金額:\", ni*0.21, \"元\")\n",
        "elif ni>=600000:\n",
        "  print(\"付稅金額:\", ni*0.13, \"元\")\n",
        "elif ni>=300000:\n",
        "  print(\"付稅金額:\", ni*0.06, \"元\")\n",
        "else:\n",
        "  print(\"付稅金額:0元\")"
      ],
      "metadata": {
        "colab": {
          "base_uri": "https://localhost:8080/"
        },
        "id": "wlZKRNQPbkhN",
        "outputId": "f19dec55-58dd-4825-f795-cb750d90fa02"
      },
      "execution_count": 26,
      "outputs": [
        {
          "output_type": "stream",
          "name": "stdout",
          "text": [
            "請輸入今年淨額;100000\n",
            "付稅金額:0元\n"
          ]
        }
      ]
    },
    {
      "cell_type": "code",
      "source": [],
      "metadata": {
        "id": "Lyc_QIXxbkkP"
      },
      "execution_count": null,
      "outputs": []
    },
    {
      "cell_type": "code",
      "source": [],
      "metadata": {
        "id": "2rJ2DuDPbko8"
      },
      "execution_count": null,
      "outputs": []
    },
    {
      "cell_type": "code",
      "source": [],
      "metadata": {
        "id": "8V7u0K_zbkrs"
      },
      "execution_count": null,
      "outputs": []
    },
    {
      "cell_type": "code",
      "source": [],
      "metadata": {
        "id": "js0aixTlQoE6"
      },
      "execution_count": null,
      "outputs": []
    }
  ]
}