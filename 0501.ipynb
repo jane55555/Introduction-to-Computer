{
  "nbformat": 4,
  "nbformat_minor": 0,
  "metadata": {
    "colab": {
      "provenance": [],
      "authorship_tag": "ABX9TyNpEw5J7sRdIqwog7uqzGq4",
      "include_colab_link": true
    },
    "kernelspec": {
      "name": "python3",
      "display_name": "Python 3"
    },
    "language_info": {
      "name": "python"
    }
  },
  "cells": [
    {
      "cell_type": "markdown",
      "metadata": {
        "id": "view-in-github",
        "colab_type": "text"
      },
      "source": [
        "<a href=\"https://colab.research.google.com/github/jane55555/Introduction-to-Computer/blob/main/0501.ipynb\" target=\"_parent\"><img src=\"https://colab.research.google.com/assets/colab-badge.svg\" alt=\"Open In Colab\"/></a>"
      ]
    },
    {
      "cell_type": "code",
      "execution_count": 2,
      "metadata": {
        "colab": {
          "base_uri": "https://localhost:8080/"
        },
        "id": "Iw2jMs7mKhrY",
        "outputId": "f4f980ef-76e8-48cc-de5b-e1dcca112fdf"
      },
      "outputs": [
        {
          "output_type": "stream",
          "name": "stdout",
          "text": [
            "淡江大學\n"
          ]
        }
      ],
      "source": [
        "print(\"淡江大學\")"
      ]
    },
    {
      "cell_type": "code",
      "source": [
        "tmp=0\n",
        "for i in range(1,6):\n",
        "  tmp +=i\n",
        "print('%d' % tmp)\n"
      ],
      "metadata": {
        "colab": {
          "base_uri": "https://localhost:8080/"
        },
        "id": "4XQscOqdKjqL",
        "outputId": "c8c9571e-0685-4cde-8c90-0cfc22042702"
      },
      "execution_count": 6,
      "outputs": [
        {
          "output_type": "stream",
          "name": "stdout",
          "text": [
            "15\n"
          ]
        }
      ]
    },
    {
      "cell_type": "code",
      "source": [
        "F= float(input(\"華氏溫度\"))\n",
        "攝氏溫度=(F-32)*5/9\n",
        "print('%.1f' % 攝氏溫度)"
      ],
      "metadata": {
        "colab": {
          "base_uri": "https://localhost:8080/"
        },
        "id": "c41AuctGKjtZ",
        "outputId": "91f8e1e3-5a59-4e59-8822-03fc1e0251ee"
      },
      "execution_count": 10,
      "outputs": [
        {
          "output_type": "stream",
          "name": "stdout",
          "text": [
            "華氏溫度100\n",
            "37.8\n"
          ]
        }
      ]
    },
    {
      "cell_type": "code",
      "source": [
        "c=int(input(\"存款金額\"))\n",
        "i=1.02\n",
        "i**=6\n",
        "i\n",
        "b=(c*i)\n",
        "print(\"6年後存款為\",b)"
      ],
      "metadata": {
        "colab": {
          "base_uri": "https://localhost:8080/"
        },
        "id": "E-A8bPxuKjwS",
        "outputId": "d20c57f5-6033-4c6f-dd46-a92bc420440f"
      },
      "execution_count": 20,
      "outputs": [
        {
          "output_type": "stream",
          "name": "stdout",
          "text": [
            "存款金額10000\n",
            "6年後存款為 11261.62419264\n"
          ]
        }
      ]
    },
    {
      "cell_type": "code",
      "source": [],
      "metadata": {
        "id": "datPPUNbKjy6"
      },
      "execution_count": null,
      "outputs": []
    },
    {
      "cell_type": "code",
      "source": [],
      "metadata": {
        "id": "a8QdkTTlKj46"
      },
      "execution_count": null,
      "outputs": []
    },
    {
      "cell_type": "code",
      "source": [],
      "metadata": {
        "id": "o1F_fpgjKj71"
      },
      "execution_count": null,
      "outputs": []
    },
    {
      "cell_type": "code",
      "source": [],
      "metadata": {
        "id": "Ba1tQwh_Kj_C"
      },
      "execution_count": null,
      "outputs": []
    },
    {
      "cell_type": "code",
      "source": [],
      "metadata": {
        "id": "WBtSMzdEKkB1"
      },
      "execution_count": null,
      "outputs": []
    },
    {
      "cell_type": "code",
      "source": [],
      "metadata": {
        "id": "qF2cGplRKkEc"
      },
      "execution_count": null,
      "outputs": []
    },
    {
      "cell_type": "code",
      "source": [],
      "metadata": {
        "id": "Lm8F8eAuKkH6"
      },
      "execution_count": null,
      "outputs": []
    },
    {
      "cell_type": "code",
      "source": [],
      "metadata": {
        "id": "-lOMfer5KkKs"
      },
      "execution_count": null,
      "outputs": []
    },
    {
      "cell_type": "code",
      "source": [],
      "metadata": {
        "id": "oI5gonSSKkN6"
      },
      "execution_count": null,
      "outputs": []
    },
    {
      "cell_type": "code",
      "source": [],
      "metadata": {
        "id": "pus0xD0UKkRC"
      },
      "execution_count": null,
      "outputs": []
    }
  ]
}