{
  "nbformat": 4,
  "nbformat_minor": 0,
  "metadata": {
    "colab": {
      "provenance": [],
      "authorship_tag": "ABX9TyO+RDRlDJWF0cUGB75FBmQZ",
      "include_colab_link": true
    },
    "kernelspec": {
      "name": "python3",
      "display_name": "Python 3"
    },
    "language_info": {
      "name": "python"
    }
  },
  "cells": [
    {
      "cell_type": "markdown",
      "metadata": {
        "id": "view-in-github",
        "colab_type": "text"
      },
      "source": [
        "<a href=\"https://colab.research.google.com/github/jane55555/Introduction-to-Computer/blob/main/Untitled5.ipynb\" target=\"_parent\"><img src=\"https://colab.research.google.com/assets/colab-badge.svg\" alt=\"Open In Colab\"/></a>"
      ]
    },
    {
      "cell_type": "code",
      "execution_count": 10,
      "metadata": {
        "colab": {
          "base_uri": "https://localhost:8080/"
        },
        "id": "uLG_P9ceXvhJ",
        "outputId": "22ab67a3-9fee-4308-d22b-e7a35fe4ce7d"
      },
      "outputs": [
        {
          "output_type": "stream",
          "name": "stdout",
          "text": [
            "panda\n",
            "*****\n",
            " total: 5\n"
          ]
        }
      ],
      "source": [
        "a=input()\n",
        "b=len(a)\n",
        "for i in range(len(a)):\n",
        "  if i==1:\n",
        "    print(\"*\",end=\"\")\n",
        "  else:\n",
        "    print(\"*\",end=\"\")\n",
        "print(\"\\n\",\"total:\",b)"
      ]
    },
    {
      "cell_type": "code",
      "source": [
        "a=int(input())\n",
        "if a<0:\n",
        "  print(\"Input Error\")\n",
        "elif a%2==0:\n",
        "  print(a,\"is even\")\n",
        "else:\n",
        "  print(a,\"is odd\")"
      ],
      "metadata": {
        "colab": {
          "base_uri": "https://localhost:8080/"
        },
        "id": "effZO3qRpJ2_",
        "outputId": "457d4398-6c71-43ef-f3af-684654b0e8f0"
      },
      "execution_count": 48,
      "outputs": [
        {
          "output_type": "stream",
          "name": "stdout",
          "text": [
            "5\n",
            "5 is odd\n"
          ]
        }
      ]
    },
    {
      "cell_type": "code",
      "source": [
        "s=int(input())\n",
        "\n",
        "if (s==1 or s==2 or s==3):\n",
        "\n",
        "  print(s,'is spring')\n",
        "\n",
        "elif (s==4 or s==5 or s==6):\n",
        "\n",
        "  print(s,'is summer')\n",
        "\n",
        "elif (s==7 or s==8 or s==9):\n",
        "\n",
        "  print(s,'is autumn')\n",
        "\n",
        "elif (s==10 or s==11 or s==12):\n",
        "\n",
        "  print(s,'is winter')\n",
        "\n",
        "else:\n",
        "\n",
        "  print('Input Error')"
      ],
      "metadata": {
        "colab": {
          "base_uri": "https://localhost:8080/"
        },
        "id": "WzTelldWpJ_2",
        "outputId": "ebfc8ddb-5400-440e-a20f-ae04429797fc"
      },
      "execution_count": 49,
      "outputs": [
        {
          "output_type": "stream",
          "name": "stdout",
          "text": [
            "12\n",
            "12 is winter\n"
          ]
        }
      ]
    },
    {
      "cell_type": "code",
      "source": [
        "k=int(input())\n",
        "if k<0:\n",
        "  print(\"Input Error\")\n",
        "elif k>=1 and k<=5:\n",
        "  print(240,\"yuan\")\n",
        "elif k>=6:\n",
        "  print(240+(k-5)*40,\"yuan\")\n",
        "else:\n",
        "  print(0,\"yuan\")"
      ],
      "metadata": {
        "colab": {
          "base_uri": "https://localhost:8080/"
        },
        "id": "qkxrcB9LpKCp",
        "outputId": "4f389d9f-5b41-4b36-b6c2-61679698c628"
      },
      "execution_count": 51,
      "outputs": [
        {
          "output_type": "stream",
          "name": "stdout",
          "text": [
            "-1\n",
            "Input Error\n"
          ]
        }
      ]
    },
    {
      "cell_type": "code",
      "source": [
        "c=100000\n",
        "\n",
        "i=1.03\n",
        "\n",
        "b=(int(input()))\n",
        "\n",
        "i**=b\n",
        "\n",
        "i\n",
        "\n",
        "if (b<0) :\n",
        "\n",
        "  print(\"Input Error\")\n",
        "\n",
        "elif (b>=0) :\n",
        "\n",
        "  print(c*i)"
      ],
      "metadata": {
        "id": "tyajbvw5pKGG"
      },
      "execution_count": null,
      "outputs": []
    },
    {
      "cell_type": "code",
      "source": [],
      "metadata": {
        "id": "YSzn1hrapKI-"
      },
      "execution_count": null,
      "outputs": []
    },
    {
      "cell_type": "code",
      "source": [],
      "metadata": {
        "id": "E98fpH5dpKMT"
      },
      "execution_count": null,
      "outputs": []
    },
    {
      "cell_type": "code",
      "source": [],
      "metadata": {
        "id": "mtR-qBTopKPK"
      },
      "execution_count": null,
      "outputs": []
    },
    {
      "cell_type": "code",
      "source": [],
      "metadata": {
        "id": "nA1eQS0xpKSm"
      },
      "execution_count": null,
      "outputs": []
    },
    {
      "cell_type": "code",
      "source": [],
      "metadata": {
        "id": "v-ygdij4pLjG"
      },
      "execution_count": null,
      "outputs": []
    },
    {
      "cell_type": "code",
      "source": [
        "q,s=map(int, input().split())\n",
        "if q>s:\n",
        "\te=q\n",
        "else:\n",
        "\te=s\n",
        "for t in range(e,0,-1):\n",
        "  if q%t==0 and s%t==0:\n",
        "    print(t)\n",
        "    break\n"
      ],
      "metadata": {
        "colab": {
          "base_uri": "https://localhost:8080/"
        },
        "id": "ZyLLvikgXwAG",
        "outputId": "2b3b5b72-d92d-413f-f634-d12d1083c809"
      },
      "execution_count": 26,
      "outputs": [
        {
          "output_type": "stream",
          "name": "stdout",
          "text": [
            "20 60\n",
            "20\n"
          ]
        }
      ]
    },
    {
      "cell_type": "code",
      "source": [
        "a,b=map(int, input().split())\n",
        "if a>b:\n",
        "\tc=a\n",
        "else:\n",
        "\tc=b\n",
        "d=(a+1)*(b+1)\n",
        "for e in range(c,d):\n",
        "  if e%a==0 and e%b==0:\n",
        "    print(e)\n",
        "    break"
      ],
      "metadata": {
        "id": "JTipugK8XwC1"
      },
      "execution_count": null,
      "outputs": []
    },
    {
      "cell_type": "code",
      "source": [
        "a=input()\n",
        "for i in range(len(a)):\n",
        "  if i%2==0:\n",
        "    print(a[i].upper(),end=\"\")\n",
        "  else:\n",
        "    print(a[i].lower(),end=\"\")"
      ],
      "metadata": {
        "colab": {
          "base_uri": "https://localhost:8080/"
        },
        "id": "8x4SPDiQXwGE",
        "outputId": "f6a11a44-ddbf-4ac1-9c7d-3d47f204545b"
      },
      "execution_count": 30,
      "outputs": [
        {
          "output_type": "stream",
          "name": "stdout",
          "text": [
            "panda\n",
            "PaNdA"
          ]
        }
      ]
    },
    {
      "cell_type": "code",
      "source": [
        "a,b,c=map(int,input().split())\n",
        "if(a+b)>c and (a+c)>b and (b+c)>a:\n",
        "  print(\"Valid\")\n",
        "else:\n",
        "  print(\"Invalid\")"
      ],
      "metadata": {
        "colab": {
          "base_uri": "https://localhost:8080/"
        },
        "id": "V30gubi9XwI1",
        "outputId": "7a7a2920-f0d8-46be-fca0-bf5eb7d0e608"
      },
      "execution_count": 31,
      "outputs": [
        {
          "output_type": "stream",
          "name": "stdout",
          "text": [
            "2 5 7\n",
            "Invalid\n"
          ]
        }
      ]
    },
    {
      "cell_type": "code",
      "source": [
        "f=input().split()\n",
        "for i in f[::-1]:\n",
        "  print(i, end=\" \")"
      ],
      "metadata": {
        "colab": {
          "base_uri": "https://localhost:8080/"
        },
        "id": "mrlpV6mQhsPK",
        "outputId": "ce1dd5c2-27de-4c22-eef4-e29f755c0b24"
      },
      "execution_count": 33,
      "outputs": [
        {
          "output_type": "stream",
          "name": "stdout",
          "text": [
            "apple banana cake\n",
            "cake banana apple "
          ]
        }
      ]
    },
    {
      "cell_type": "code",
      "source": [
        "a=input()\n",
        "for i in range(len(a)):\n",
        "  print(\"*\",end=\"\")\n",
        "b=\"total:{}\"\n",
        "print()\n",
        "print(b.format(len(a)))"
      ],
      "metadata": {
        "colab": {
          "base_uri": "https://localhost:8080/"
        },
        "id": "ena2s-x3hsSh",
        "outputId": "13ed54a1-424e-44f3-f04a-2fb3775dac6c"
      },
      "execution_count": 35,
      "outputs": [
        {
          "output_type": "stream",
          "name": "stdout",
          "text": [
            "ppppp\n",
            "*****\n",
            "total:5\n"
          ]
        }
      ]
    },
    {
      "cell_type": "code",
      "source": [
        "s=int(input())\n",
        "m,s=divmod(s,60)\n",
        "h,m=divmod(m,60)\n",
        "print(\"%02d:%02d:%02d\"%(h,m,s))"
      ],
      "metadata": {
        "colab": {
          "base_uri": "https://localhost:8080/"
        },
        "id": "8dhpcw5akoJB",
        "outputId": "d76b97b9-ad0d-4c0c-a0a8-9d0ae09d7098"
      },
      "execution_count": 36,
      "outputs": [
        {
          "output_type": "stream",
          "name": "stdout",
          "text": [
            "234\n",
            "00:03:54\n"
          ]
        }
      ]
    },
    {
      "cell_type": "code",
      "source": [
        "y=int(input())\n",
        "text=\"common year\"\n",
        "if y%4==0:\n",
        "  text='leap year'\n",
        "if y%100==0:\n",
        "  text=\"common year\"\n",
        "if y%400==0:\n",
        "  text='leap year'\n",
        "print(f'{y} is {text}')"
      ],
      "metadata": {
        "colab": {
          "base_uri": "https://localhost:8080/"
        },
        "id": "G_0HHLkrkoM_",
        "outputId": "bfa43dca-a5fa-4b81-e797-a8a7500d524c"
      },
      "execution_count": 41,
      "outputs": [
        {
          "output_type": "stream",
          "name": "stdout",
          "text": [
            "2000\n",
            "2000 is leap year\n"
          ]
        }
      ]
    },
    {
      "cell_type": "code",
      "source": [
        "x=int(input())\n",
        "for i in range(x, 10):\n",
        "  for j in range(1, 10):\n",
        "    print(\"%d*%d=%d\" % (i,j,i*j),end=\" \")\n",
        "  print()"
      ],
      "metadata": {
        "colab": {
          "base_uri": "https://localhost:8080/"
        },
        "id": "1OJizMk0koQY",
        "outputId": "a62b7084-8ba0-4d93-9e99-abc14a41ff83"
      },
      "execution_count": 43,
      "outputs": [
        {
          "output_type": "stream",
          "name": "stdout",
          "text": [
            "5\n",
            "5*1=5 5*2=10 5*3=15 5*4=20 5*5=25 5*6=30 5*7=35 5*8=40 5*9=45 \n",
            "6*1=6 6*2=12 6*3=18 6*4=24 6*5=30 6*6=36 6*7=42 6*8=48 6*9=54 \n",
            "7*1=7 7*2=14 7*3=21 7*4=28 7*5=35 7*6=42 7*7=49 7*8=56 7*9=63 \n",
            "8*1=8 8*2=16 8*3=24 8*4=32 8*5=40 8*6=48 8*7=56 8*8=64 8*9=72 \n",
            "9*1=9 9*2=18 9*3=27 9*4=36 9*5=45 9*6=54 9*7=63 9*8=72 9*9=81 \n"
          ]
        }
      ]
    },
    {
      "cell_type": "code",
      "source": [
        "from functools import total_ordering\n",
        "a=int(input())\n",
        "total=0\n",
        "if a>15:\n",
        "  for x in range(15,a+1):\n",
        "    if(x%2==0):\n",
        "      total+=x\n",
        "  print(total)\n",
        "else:\n",
        "  for j in range(a,16):\n",
        "    if(x%2==0):\n",
        "      total+=x\n",
        "  print(total)"
      ],
      "metadata": {
        "colab": {
          "base_uri": "https://localhost:8080/"
        },
        "id": "iUMiFLzTkoUI",
        "outputId": "3a0ea7fc-7d91-4d00-8751-9ab444144923"
      },
      "execution_count": 47,
      "outputs": [
        {
          "output_type": "stream",
          "name": "stdout",
          "text": [
            "99\n",
            "2394\n"
          ]
        }
      ]
    },
    {
      "cell_type": "code",
      "source": [],
      "metadata": {
        "id": "bNVCR3hNhsVJ"
      },
      "execution_count": null,
      "outputs": []
    }
  ]
}